{
 "cells": [
  {
   "cell_type": "code",
   "execution_count": 1,
   "metadata": {},
   "outputs": [],
   "source": [
    "import numpy as np\n",
    "import math as m\n",
    "import random\n",
    "from copy import deepcopy"
   ]
  },
  {
   "cell_type": "code",
   "execution_count": 2,
   "metadata": {},
   "outputs": [],
   "source": [
    "def indipop(populasi,p_kromos):\n",
    "    gen = []\n",
    "    for i in range(populasi):\n",
    "        temp = []\n",
    "        for i in range(p_kromos):\n",
    "            temp.append(random.randint(0,1))\n",
    "        gen.append(temp)\n",
    "    return gen"
   ]
  },
  {
   "cell_type": "code",
   "execution_count": 3,
   "metadata": {},
   "outputs": [],
   "source": [
    "def fungsi(x1,x2):\n",
    "    f = (4-2.1*m.pow(x1,2)+m.pow(x1,4)/3)*m.pow(x1,2)+(x1*x2)+(-4+4*m.pow(x2,2))*m.pow(x2,2)\n",
    "    return f"
   ]
  },
  {
   "cell_type": "code",
   "execution_count": 4,
   "metadata": {},
   "outputs": [],
   "source": [
    "def chromoX(b,N,garray):\n",
    "    total, sigma = 0, 0\n",
    "    for i in range(N//2):\n",
    "        total = total + garray[i]*2**-(i+1)\n",
    "        sigma = sigma + 2**-(i+1)\n",
    "    c = b[0] + ((b[1] - b[0])/sigma)*total\n",
    "    return c\n",
    "\n",
    "def chromoY(b,N,garray):\n",
    "    total, sigma = 0, 0\n",
    "    g = garray[N//2:]\n",
    "    for i in range(N//2):\n",
    "        total = total + g[i]*2**-(i+1)\n",
    "        sigma = sigma + 2**-(i+1)\n",
    "    c = b[0] + ((b[1] - b[0])/sigma)*total\n",
    "    return c"
   ]
  },
  {
   "cell_type": "code",
   "execution_count": 5,
   "metadata": {},
   "outputs": [],
   "source": [
    "def minFitness(x1,x2):\n",
    "    fitness = -(fungsi(x1,x2))\n",
    "    return fitness"
   ]
  },
  {
   "cell_type": "code",
   "execution_count": 6,
   "metadata": {},
   "outputs": [],
   "source": [
    "def elitism(gen,fit):\n",
    "    sort = sorted(zip(fit,gen), reverse=True)\n",
    "    elitgen = []\n",
    "    elitfit = []\n",
    "    for i in range(2):\n",
    "        elitgen.append(sort[i][1])\n",
    "        elitfit.append(sort[i][0])\n",
    "    return elitgen, elitfit"
   ]
  },
  {
   "cell_type": "code",
   "execution_count": 7,
   "metadata": {},
   "outputs": [],
   "source": [
    "def tournament(gen,x1,x2):\n",
    "    best = []\n",
    "    N = len(gen)\n",
    "    for i in range(N):\n",
    "        k = i-1\n",
    "        bst = -1\n",
    "        for j in range(3):\n",
    "            r = random.randint(0,N-1)\n",
    "            if bst == -1 or minFitness(x1[r],x2[r])>minFitness(x1[bst],x2[bst]):\n",
    "                bst = r\n",
    "        if not best or best[k]!=gen[bst]:\n",
    "            best.append(gen[bst])\n",
    "        else:\n",
    "            while(best[k]==gen[bst]):\n",
    "                r = random.randint(0,N-1)\n",
    "                if bst != r:\n",
    "                    bst = r\n",
    "            best.append(gen[bst])\n",
    "    return best"
   ]
  },
  {
   "cell_type": "code",
   "execution_count": 8,
   "metadata": {},
   "outputs": [],
   "source": [
    "def crossover(psel,kromos,pc):\n",
    "    r = np.random.uniform(0,1)\n",
    "    if r<= pc:\n",
    "        n1 = np.random.randint(0,(kromos//2)-1)\n",
    "        n2 = np.random.randint((kromos//2),kromos-1)\n",
    "        \n",
    "        j = 0\n",
    "        child = []\n",
    "        while(j<len(psel)):\n",
    "            psel1 = deepcopy(psel[j])\n",
    "            psel2 = deepcopy(psel[j+1])\n",
    "\n",
    "            for i in range(kromos):\n",
    "                if i>=n1 and i<=n2:\n",
    "                    psel1[i],psel2[i] = deepcopy(psel2[i]), deepcopy(psel1[i])\n",
    "            child.append(psel1)\n",
    "            child.append(psel2)\n",
    "            j += 2\n",
    "        return child\n",
    "    else:\n",
    "        return psel"
   ]
  },
  {
   "cell_type": "code",
   "execution_count": 9,
   "metadata": {},
   "outputs": [],
   "source": [
    "def mutasi(childm):\n",
    "    length = len(childm)\n",
    "    lm = 0.1\n",
    "    for i in range(length):\n",
    "        r = np.random.uniform(0,1)\n",
    "        if r<=lm :\n",
    "            if childm[i] == 1:\n",
    "                childm[i] = 0\n",
    "            else:\n",
    "                childm[i] = 1\n",
    "    return childm"
   ]
  },
  {
   "cell_type": "code",
   "execution_count": 104,
   "metadata": {},
   "outputs": [
    {
     "name": "stdout",
     "output_type": "stream",
     "text": [
      "\n",
      "Best Fitness dan Individu:\n",
      "1.0310852152574297  -  [0, 1, 1, 1, 1, 1, 0, 0, 0, 0, 1, 0, 0, 0, 0, 1, 0, 1, 0, 1, 1, 1, 0, 0, 0, 1, 0, 0, 0, 0]\n",
      "\n",
      "X1     :  -0.09073152867213974\n",
      "X2     :  0.7207861568041016\n",
      "Fungsi :  -1.0310852152574297\n"
     ]
    }
   ],
   "source": [
    "#MAIN PROGRAM\n",
    "\n",
    "#INISIALISASI\n",
    "pop = 50\n",
    "kromos = 30\n",
    "pmut = 1/pop\n",
    "pcross = 0.7\n",
    "generasi = 250\n",
    "batas1 = [-3,3]\n",
    "batas2 = [-2,2]\n",
    "x = indipop(pop,kromos)\n",
    "\n",
    "#MULAI ITERASI GENERASI\n",
    "for i in range(generasi):\n",
    "    #print()\n",
    "    #print('Gen-',i+1)\n",
    "    \n",
    "    #Mencari xgen(x1) dan ygen(x2) untuk populasi(x) \n",
    "    xgen = []\n",
    "    ygen = []\n",
    "    for i in range(pop):\n",
    "        xgen.append(chromoX(batas1,kromos,x[i]))\n",
    "        ygen.append(chromoY(batas2,kromos,x[i]))\n",
    "\n",
    "    #Mencari Nilai Fitness dari populasi\n",
    "    fit = []\n",
    "    for i in range(pop):\n",
    "        fit.append(minFitness(xgen[i],ygen[i]))\n",
    "\n",
    "    #Elitism 2 individu terbaik\n",
    "    eg = []\n",
    "    ef = []\n",
    "    eg, ef = elitism(x,fit)\n",
    "    elit = sorted(zip(ef,eg), reverse=True)\n",
    "    \n",
    "    #print()\n",
    "    #print(*elit, sep = \"\\n\")\n",
    "    #print()\n",
    "\n",
    "    #Parent Selection\n",
    "    psel = []\n",
    "    psel = tournament(x,xgen,ygen)\n",
    "\n",
    "    #Crossover\n",
    "    child = []\n",
    "    child = crossover(psel,kromos,pcross)\n",
    "\n",
    "    #Mutasi\n",
    "    for i in range(len(child)):\n",
    "        r = np.random.uniform(0,1)\n",
    "        if r<=pmut:\n",
    "            child[i] = mutasi(child[i])\n",
    "\n",
    "    #Mencari fitness untuk child\n",
    "    fchild = []\n",
    "    for i in range(len(child)):\n",
    "        fchild.append(minFitness(chromoX(batas1,kromos,child[i]),chromoY(batas2,kromos,child[i])))\n",
    "\n",
    "    #Menentukan populasi untuk generasi selanjutnya\n",
    "    x = []\n",
    "    f = []\n",
    "    x = child + eg\n",
    "    f = fchild + ef\n",
    "    bestgen = sorted(zip(f,x), reverse=True)[:pop]\n",
    "\n",
    "    #Mendapat populasi baru untuk generasi selanjutnya \n",
    "    x = []\n",
    "    for i in range(pop):\n",
    "        x.append(bestgen[i][1])\n",
    "\n",
    "    #print(*bestgen, sep = \"\\n\")\n",
    "    #print()\n",
    "    #print(*x, sep = \"\\n\")\n",
    "    \n",
    "X1 = chromoX(batas1,kromos,bestgen[0][1])\n",
    "X2 = chromoY(batas2,kromos,bestgen[0][1])\n",
    "print()\n",
    "print('Best Fitness dan Individu:')\n",
    "print(bestgen[0][0],' - ',bestgen[0][1])\n",
    "print()\n",
    "print('X1     : ',X1)\n",
    "print('X2     : ',X2)\n",
    "print('Fungsi : ',fungsi(X1,X2))"
   ]
  }
 ],
 "metadata": {
  "kernelspec": {
   "display_name": "Python 3",
   "language": "python",
   "name": "python3"
  },
  "language_info": {
   "codemirror_mode": {
    "name": "ipython",
    "version": 3
   },
   "file_extension": ".py",
   "mimetype": "text/x-python",
   "name": "python",
   "nbconvert_exporter": "python",
   "pygments_lexer": "ipython3",
   "version": "3.7.3"
  }
 },
 "nbformat": 4,
 "nbformat_minor": 2
}

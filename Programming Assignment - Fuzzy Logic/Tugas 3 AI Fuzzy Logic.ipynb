{
 "cells": [
  {
   "cell_type": "code",
   "execution_count": 1,
   "metadata": {},
   "outputs": [],
   "source": [
    "import numpy as np\n",
    "import math as m\n",
    "import random\n",
    "import pandas as pd\n",
    "import csv\n",
    "import matplotlib.pyplot as plt\n",
    "from copy import deepcopy"
   ]
  },
  {
   "cell_type": "markdown",
   "metadata": {},
   "source": [
    "### Read Data CSV"
   ]
  },
  {
   "cell_type": "code",
   "execution_count": 4,
   "metadata": {},
   "outputs": [],
   "source": [
    "data = pd.read_csv('influencers.csv')"
   ]
  },
  {
   "cell_type": "code",
   "execution_count": 5,
   "metadata": {},
   "outputs": [],
   "source": [
    "dataList = data.values.tolist()"
   ]
  },
  {
   "cell_type": "markdown",
   "metadata": {},
   "source": [
    "### Fuzzification"
   ]
  },
  {
   "cell_type": "markdown",
   "metadata": {},
   "source": [
    "### Fungsi Keanggotaan Follower"
   ]
  },
  {
   "cell_type": "code",
   "execution_count": 6,
   "metadata": {},
   "outputs": [],
   "source": [
    "def faFollower(x,batasFoll):\n",
    "    listfaF = []\n",
    "    if x>=0 and x<=batasFoll[0] :\n",
    "        listfaF.append([1, linguistikI[0]])\n",
    "    elif x>batasFoll[0] and x<= batasFoll[1] :\n",
    "        listfaF.append([(batasFoll[1]-x)/(batasFoll[1]-batasFoll[0]), linguistikI[0]])\n",
    "    \n",
    "    if x>= batasFoll[0] and x< batasFoll[1] :\n",
    "        listfaF.append([1-((batasFoll[1]-x)/(batasFoll[1]-batasFoll[0])), linguistikI[1]])\n",
    "    elif x>= batasFoll[1] and x<= batasFoll[2] :\n",
    "        listfaF.append([1, linguistikI[1]])\n",
    "    elif x>batasFoll[2] and x<= batasFoll[3] :\n",
    "        listfaF.append([(batasFoll[3]-x)/(batasFoll[3]-batasFoll[2]), linguistikI[1]])\n",
    "    \n",
    "    if x>=batasFoll[2] and x<batasFoll[3] :\n",
    "        listfaF.append([1-((batasFoll[3]-x)/(batasFoll[3]-batasFoll[2])), linguistikI[2]])\n",
    "    elif x>=batasFoll[3] :\n",
    "        listfaF.append([1, linguistikI[2]])\n",
    "    \n",
    "    return listfaF"
   ]
  },
  {
   "cell_type": "markdown",
   "metadata": {},
   "source": [
    "### Fungsi Keanggotaan Engagment"
   ]
  },
  {
   "cell_type": "code",
   "execution_count": 7,
   "metadata": {},
   "outputs": [],
   "source": [
    "def faEngagment(x,batasEng):\n",
    "    listfaE = []\n",
    "    if x>=0 and x<=batasEng[0] :\n",
    "        listfaE.append([1, linguistikI[0]])\n",
    "    elif x>batasEng[0] and x<= batasEng[1] :\n",
    "        listfaE.append([(batasEng[1]-x)/(batasEng[1]-batasEng[0]), linguistikI[0]])\n",
    "    \n",
    "    if x>= batasEng[0] and x< batasEng[1] :\n",
    "        listfaE.append([1-((batasEng[1]-x)/(batasEng[1]-batasEng[0])), linguistikI[1]])\n",
    "    elif x>= batasEng[1] and x<= batasEng[2] :\n",
    "         listfaE.append([1, linguistikI[1]])\n",
    "    elif x>batasEng[2] and x<= batasEng[3] :\n",
    "        listfaE.append([(batasEng[3]-x)/(batasEng[3]-batasEng[2]), linguistikI[1]])\n",
    "    \n",
    "    if x>=batasEng[2] and x<batasEng[3] :\n",
    "        listfaE.append([1-((batasEng[3]-x)/(batasEng[3]-batasEng[2])), linguistikI[2]])\n",
    "    elif x>=batasEng[3] :\n",
    "        listfaE.append([1, linguistikI[2]])\n",
    "    \n",
    "    return listfaE"
   ]
  },
  {
   "cell_type": "markdown",
   "metadata": {},
   "source": [
    "### Fungsi Keanggotaan Output"
   ]
  },
  {
   "cell_type": "code",
   "execution_count": 8,
   "metadata": {},
   "outputs": [],
   "source": [
    "def faOutput(x, batasHasil):\n",
    "    listfaO = []\n",
    "    if x>=0 and x<=batasOut[0] :\n",
    "        listfaO.append(batasHasil[0])\n",
    "    elif x>batasOut[0] and x<= batasOut[1] :\n",
    "        listfaO.append((batasOut[1]-x)/(batasOut[1]-batasOut[0]))\n",
    "    \n",
    "    if x>= batasOut[0] and x< batasOut[1] :\n",
    "        listfaO.append(1-((batasOut[1]-x)/(batasOut[1]-batasOut[0])))\n",
    "    elif x>= batasOut[1] and x<= batasOut[2] :\n",
    "         listfaO.append(batasHasil[1])\n",
    "    elif x>batasOut[2] and x<= batasOut[3] :\n",
    "        listfaO.append((batasOut[3]-x)/(batasOut[3]-batasOut[2]))\n",
    "    \n",
    "    if x>=batasOut[2] and x<batasOut[3] :\n",
    "        listfaO.append(1-((batasOut[3]-x)/(batasOut[3]-batasOut[2])))\n",
    "    elif x>=batasOut[3] :\n",
    "        listfaO.append(batasHasil[0])\n",
    "    \n",
    "    return listfaO"
   ]
  },
  {
   "cell_type": "markdown",
   "metadata": {},
   "source": [
    "### Rule"
   ]
  },
  {
   "cell_type": "code",
   "execution_count": 9,
   "metadata": {},
   "outputs": [],
   "source": [
    "def Rule(follower, engagment):\n",
    "    if follower=='Rendah' and engagment=='Rendah':\n",
    "        return linguistikO[hasilO[0][0]]\n",
    "    elif follower=='Rendah' and engagment=='Sedang':\n",
    "        return linguistikO[hasilO[0][1]]\n",
    "    elif follower=='Rendah' and engagment=='Tinggi':\n",
    "        return linguistikO[hasilO[0][2]]\n",
    "    elif follower=='Sedang' and engagment=='Rendah':\n",
    "        return linguistikO[hasilO[1][0]]\n",
    "    elif follower=='Sedang' and engagment=='Sedang':\n",
    "        return linguistikO[hasilO[1][1]]\n",
    "    elif follower=='Sedang' and engagment=='Tinggi':\n",
    "        return linguistikO[hasilO[1][2]]\n",
    "    elif follower=='Tinggi' and engagment=='Rendah':\n",
    "        return linguistikO[hasilO[2][0]]\n",
    "    elif follower=='Tinggi' and engagment=='Sedang':\n",
    "        return linguistikO[hasilO[2][1]]\n",
    "    elif follower=='Tinggi' and engagment=='Tinggi':\n",
    "        return linguistikO[hasilO[2][2]]"
   ]
  },
  {
   "cell_type": "markdown",
   "metadata": {},
   "source": [
    "### Inference"
   ]
  },
  {
   "cell_type": "code",
   "execution_count": 10,
   "metadata": {},
   "outputs": [],
   "source": [
    "def inference(x,batasFoll,batasEng):\n",
    "    listRule = []\n",
    "    listNilai = []\n",
    "    follower = faFollower(dataList[x][1], batasFoll)\n",
    "    engagment = faEngagment(dataList[x][2], batasEng)\n",
    "    for fol in follower:\n",
    "        for eng in engagment:\n",
    "            rule = Rule(fol[1],eng[1])\n",
    "            nilai = min(fol[0],eng[0])\n",
    "            if rule not in listRule:\n",
    "                listRule.append(rule)\n",
    "                listNilai.append(nilai)\n",
    "            else:\n",
    "                for i in range(len(listRule)):\n",
    "                    if rule==listRule[i]:\n",
    "                        listNilai[i] == max(listNilai[i],nilai)\n",
    "    listinf = zip(listRule,listNilai)\n",
    "    return listinf"
   ]
  },
  {
   "cell_type": "markdown",
   "metadata": {},
   "source": [
    "### Defuzzification"
   ]
  },
  {
   "cell_type": "code",
   "execution_count": 11,
   "metadata": {},
   "outputs": [],
   "source": [
    "def defuzzification(batasHasil):\n",
    "    listHasil = []\n",
    "    jumHasil = 0\n",
    "    jumTitik = 0\n",
    "    for i in range (len(titik)):\n",
    "        listHasil.append(faOutput(titik[i],batasHasil))\n",
    "        jumHasil += titik[i]*listHasil[i][0]\n",
    "        jumTitik += listHasil[i][0]\n",
    "    \n",
    "    return(jumHasil/jumTitik)"
   ]
  },
  {
   "cell_type": "markdown",
   "metadata": {},
   "source": [
    "### Akurasi"
   ]
  },
  {
   "cell_type": "code",
   "execution_count": 12,
   "metadata": {},
   "outputs": [],
   "source": [
    "def akurasi(hasil):\n",
    "    listPerkalian = []\n",
    "    count = 0\n",
    "    for i in range (len(dataList)):\n",
    "        n = dataList[i][1]*dataList[i][2]\n",
    "        listPerkalian.append([n,i+1])\n",
    "    sort = sorted(listPerkalian, reverse=True)\n",
    "    for i in range (20):\n",
    "        for j in range (20):\n",
    "            if hasil[i][1] == sort[j][1]:\n",
    "                count += 1\n",
    "    return (count/20)*100"
   ]
  },
  {
   "cell_type": "markdown",
   "metadata": {},
   "source": [
    "### Grafik"
   ]
  },
  {
   "cell_type": "code",
   "execution_count": 13,
   "metadata": {},
   "outputs": [],
   "source": [
    "def grafik(batas, judul, linguistik, bakhir):\n",
    "    plt.title(judul)\n",
    "    plt.plot([0,batas[0],batas[1]],[1,1,0],label = linguistik[0])\n",
    "    plt.plot([batas[0],batas[1],batas[2],batas[3]],[0,1,1,0],label = linguistik[1])\n",
    "    plt.plot([batas[2],batas[3],bakhir],[0,1,1],label = linguistik[2])\n",
    "    plt.legend(bbox_to_anchor=(1.05, 1),loc='upper left', borderaxespad=0.)\n",
    "    plt.show()"
   ]
  },
  {
   "cell_type": "markdown",
   "metadata": {},
   "source": [
    "## Main Program"
   ]
  },
  {
   "cell_type": "markdown",
   "metadata": {},
   "source": [
    "### Initialisasi"
   ]
  },
  {
   "cell_type": "code",
   "execution_count": 14,
   "metadata": {},
   "outputs": [],
   "source": [
    "linguistikI = ['Rendah','Sedang','Tinggi']\n",
    "linguistikO = ['Tolak','Pertimbangkan','Diterima']\n",
    "\n",
    "batasFoll = [24000, 47000, 65000, 75000]\n",
    "batasEng = [2.9, 4.7, 5.7, 6.5]\n",
    "batasOut = [22, 42, 68, 74]\n",
    "hasilO = [[0,0,1],[0,1,2],[1,2,2]]\n",
    "titik = [10, 20, 30, 40, 50, 60, 70, 80, 90]"
   ]
  },
  {
   "cell_type": "markdown",
   "metadata": {},
   "source": [
    "### Grafik Fungsi Keanggotaan"
   ]
  },
  {
   "cell_type": "code",
   "execution_count": 15,
   "metadata": {},
   "outputs": [
    {
     "data": {
      "image/png": "[encoded data removed]",
      "text/plain": [
       "<Figure size 432x288 with 1 Axes>"
      ]
     },
     "metadata": {
      "needs_background": "light"
     },
     "output_type": "display_data"
    },
    {
     "data": {
      "image/png": "[encoded data removed]",
      "text/plain": [
       "<Figure size 432x288 with 1 Axes>"
      ]
     },
     "metadata": {
      "needs_background": "light"
     },
     "output_type": "display_data"
    },
    {
     "data": {
      "image/png": "[encoded data removed]",
      "text/plain": [
       "<Figure size 432x288 with 1 Axes>"
      ]
     },
     "metadata": {
      "needs_background": "light"
     },
     "output_type": "display_data"
    }
   ],
   "source": [
    "grafik(batasFoll,'Fungsi Keanggotaan Follower Count',linguistikI,100000)\n",
    "grafik(batasEng,'Fungsi Keanggotaan Engagment Rate',linguistikI,10)\n",
    "grafik(batasOut,'Fungsi Keanggotaan Output',linguistikO,100)"
   ]
  },
  {
   "cell_type": "markdown",
   "metadata": {},
   "source": [
    "### Proses"
   ]
  },
  {
   "cell_type": "code",
   "execution_count": 16,
   "metadata": {},
   "outputs": [],
   "source": [
    "listHasilDef = []\n",
    "for i in range (len(dataList)):\n",
    "    inf = inference(i,batasFoll,batasEng)\n",
    "    plingo = len(linguistikO)\n",
    "    batasHasil = [0]*plingo\n",
    "    for hinf in inf:\n",
    "        for j in range(plingo):\n",
    "            if hinf[0] == linguistikO[j]:\n",
    "                batasHasil[j] = hinf[1]\n",
    "    listHasilDef.append([defuzzification(batasHasil),i+1])"
   ]
  },
  {
   "cell_type": "code",
   "execution_count": 17,
   "metadata": {},
   "outputs": [
    {
     "name": "stdout",
     "output_type": "stream",
     "text": [
      "Record  =  [100, 60, 48, 39, 25, 19, 75, 72, 61, 41, 74, 76, 67, 36, 2, 53, 93, 59, 13, 11]\n",
      "Akurasi =  100.0 %\n"
     ]
    }
   ],
   "source": [
    "cek = sorted(listHasilDef, reverse=True)\n",
    "acc = akurasi(cek)\n",
    "listRecord = []\n",
    "for i in range (20):\n",
    "    listRecord.append(cek[i][1])\n",
    "print('Record  = ',listRecord)\n",
    "print('Akurasi = ',acc,'%')"
   ]
  },
  {
   "cell_type": "markdown",
   "metadata": {},
   "source": [
    "### Write Records To CSV"
   ]
  },
  {
   "cell_type": "code",
   "execution_count": 18,
   "metadata": {},
   "outputs": [],
   "source": [
    "with open('hasilRecord.csv', \"w\") as outfile:\n",
    "    wr = csv.writer(outfile, dialect='excel')\n",
    "    wr.writerow(['Nomor Record'])\n",
    "    for word in listRecord:\n",
    "        wr.writerow([word])"
   ]
  }
 ],
 "metadata": {
  "kernelspec": {
   "display_name": "Python 3",
   "language": "python",
   "name": "python3"
  },
  "language_info": {
   "codemirror_mode": {
    "name": "ipython",
    "version": 3
   },
   "file_extension": ".py",
   "mimetype": "text/x-python",
   "name": "python",
   "nbconvert_exporter": "python",
   "pygments_lexer": "ipython3",
   "version": "3.7.3"
  }
 },
 "nbformat": 4,
 "nbformat_minor": 2
}

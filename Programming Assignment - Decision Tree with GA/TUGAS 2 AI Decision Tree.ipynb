{
 "cells": [
  {
   "cell_type": "code",
   "execution_count": 1343,
   "metadata": {},
   "outputs": [],
   "source": [
    "import numpy as np\n",
    "import math as m\n",
    "import random\n",
    "import pandas as pd\n",
    "import random\n",
    "import csv\n",
    "from copy import deepcopy"
   ]
  },
  {
   "cell_type": "markdown",
   "metadata": {},
   "source": [
    "### Read Data di Excel"
   ]
  },
  {
   "cell_type": "code",
   "execution_count": 1344,
   "metadata": {},
   "outputs": [],
   "source": [
    "dataTrain = pd.read_excel('DatasetAI.xlsx', sheet_name=0)"
   ]
  },
  {
   "cell_type": "code",
   "execution_count": 1345,
   "metadata": {},
   "outputs": [],
   "source": [
    "dataTrainList = dataTrain.values.tolist()"
   ]
  },
  {
   "cell_type": "markdown",
   "metadata": {},
   "source": [
    "### Encode Binary\n",
    "(1) Suhu, urutannya : Rendah, Normal, Tinggi. (2) Waktu, urutannya : Pagi, Siang, Sore, Malam. (3) Kondisi Langit, urutannya : Cerah, Berawan, Rintik, Hujan. (4) Kelembapan, urutannya : Rendah, Normal, Tinggi. (5)Terbang, urutannya: Ya, Tidak"
   ]
  },
  {
   "cell_type": "code",
   "execution_count": 1346,
   "metadata": {},
   "outputs": [],
   "source": [
    "def encodeBinary(data):\n",
    "    binary = []\n",
    "    # SUHU\n",
    "    if data[0] == 'Rendah':\n",
    "        binary.extend([1,0,0])\n",
    "    elif data[0] == 'Normal':\n",
    "        binary.extend([0,1,0])\n",
    "    else:\n",
    "        binary.extend([0,0,1])\n",
    "    \n",
    "    # WAKTU\n",
    "    if data[1] == 'Pagi':\n",
    "        binary.extend([1,0,0,0])\n",
    "    elif data[1] == 'Siang':\n",
    "        binary.extend([0,1,0,0])\n",
    "    elif data[1] == 'Sore':\n",
    "        binary.extend([0,0,1,0])\n",
    "    else:\n",
    "        binary.extend([0,0,0,1])\n",
    "    \n",
    "    # KONDISI\n",
    "    if data[2] == 'Cerah':\n",
    "        binary.extend([1,0,0,0])\n",
    "    elif data[2] == 'Berawan':\n",
    "        binary.extend([0,1,0,0])\n",
    "    elif data[2] == 'Rintik':\n",
    "        binary.extend([0,0,1,0])\n",
    "    else:\n",
    "        binary.extend([0,0,0,1])\n",
    "\n",
    "    # KELEMBAPAN\n",
    "    if data[3] == 'Rendah':\n",
    "        binary.extend([1,0,0])\n",
    "    elif data[3] == 'Normal':\n",
    "        binary.extend([0,1,0])\n",
    "    else:\n",
    "        binary.extend([0,0,1])\n",
    "    \n",
    "    # TERBANG(?)\n",
    "    if data[4] == 'Ya':\n",
    "        binary.append(1)\n",
    "    else:\n",
    "        binary.append(0)\n",
    "    return binary"
   ]
  },
  {
   "cell_type": "markdown",
   "metadata": {},
   "source": [
    "## Decode Binary"
   ]
  },
  {
   "cell_type": "markdown",
   "metadata": {},
   "source": [
    "### Suhu"
   ]
  },
  {
   "cell_type": "code",
   "execution_count": 1347,
   "metadata": {},
   "outputs": [],
   "source": [
    "def decSuhu(data):\n",
    "    if data[0:3] == [1,0,0]:\n",
    "        return ('Rendah')\n",
    "    elif data[0:3] == [0,1,0]:\n",
    "        return ('Normal')\n",
    "    else:\n",
    "        return ('Tinggi')"
   ]
  },
  {
   "cell_type": "markdown",
   "metadata": {},
   "source": [
    "### Waktu"
   ]
  },
  {
   "cell_type": "code",
   "execution_count": 1348,
   "metadata": {},
   "outputs": [],
   "source": [
    "def decWaktu(data):\n",
    "    if data[3:7] == [1,0,0,0]:\n",
    "        return ('Pagi')\n",
    "    elif data[3:7] == [0,1,0,0]:\n",
    "        return ('Siang')\n",
    "    elif data[3:7] == [0,0,1,0]:\n",
    "        return ('Sore')\n",
    "    else:\n",
    "        return ('Malam')"
   ]
  },
  {
   "cell_type": "markdown",
   "metadata": {},
   "source": [
    "### Kondisi"
   ]
  },
  {
   "cell_type": "code",
   "execution_count": 1349,
   "metadata": {},
   "outputs": [],
   "source": [
    "def decKondisi(data):\n",
    "    if data[7:11] == [1,0,0,0]:\n",
    "        return ('Cerah')\n",
    "    elif data[7:11] == [0,1,0,0]:\n",
    "        return ('Berawan')\n",
    "    elif data[7:11] == [0,0,1,0]:\n",
    "        return ('Rintik')\n",
    "    else:\n",
    "        return ('Hujan')"
   ]
  },
  {
   "cell_type": "markdown",
   "metadata": {},
   "source": [
    "### Kelembapan"
   ]
  },
  {
   "cell_type": "code",
   "execution_count": 1350,
   "metadata": {},
   "outputs": [],
   "source": [
    "def decKelembapan(data):\n",
    "    if data[11:14] == [1,0,0]:\n",
    "        return ('Rendah')\n",
    "    elif data[11:14] == [0,1,0]:\n",
    "        return ('Normal')\n",
    "    else:\n",
    "        return ('Tinggi')"
   ]
  },
  {
   "cell_type": "markdown",
   "metadata": {},
   "source": [
    "### Klasifikasi"
   ]
  },
  {
   "cell_type": "code",
   "execution_count": 1351,
   "metadata": {},
   "outputs": [],
   "source": [
    "def decKlasifikasi(data):\n",
    "    if data[14] == 1:\n",
    "        return ('Ya')\n",
    "    else:\n",
    "        return ('Tidak')"
   ]
  },
  {
   "cell_type": "code",
   "execution_count": 1352,
   "metadata": {},
   "outputs": [],
   "source": [
    "def decodeBinary(data):\n",
    "    dec = []\n",
    "    for i in range(len(data)):\n",
    "        decode = []\n",
    "        decode.append(decSuhu(data[i]))\n",
    "        decode.append(decWaktu(data[i]))\n",
    "        decode.append(decKondisi(data[i]))\n",
    "        decode.append(decKelembapan(data[i]))\n",
    "        decode.append(decKlasifikasi(data[i]))\n",
    "        dec.append(decode)\n",
    "    return dec"
   ]
  },
  {
   "cell_type": "markdown",
   "metadata": {},
   "source": [
    "### Convert Rule ke dalam Binary"
   ]
  },
  {
   "cell_type": "code",
   "execution_count": 1353,
   "metadata": {},
   "outputs": [],
   "source": [
    "def convertRule(dataTrainList):\n",
    "    dataBinary = []\n",
    "    for i in range (len(dataTrainList)):\n",
    "         dataBinary.append(encodeBinary(dataTrainList[i]))\n",
    "    return dataBinary"
   ]
  },
  {
   "cell_type": "markdown",
   "metadata": {},
   "source": [
    "### Buat Individu"
   ]
  },
  {
   "cell_type": "code",
   "execution_count": 1365,
   "metadata": {},
   "outputs": [],
   "source": [
    "def buatKromosom(pop):\n",
    "    gen = []\n",
    "    data = [15,30,45,60]\n",
    "    for i in range(pop):\n",
    "        coba = []\n",
    "        r = random.choice(data)\n",
    "        for i in range(r):\n",
    "            coba.append(random.randint(0,1))\n",
    "        gen.append(coba)\n",
    "    return gen"
   ]
  },
  {
   "cell_type": "markdown",
   "metadata": {},
   "source": [
    "### Fitness"
   ]
  },
  {
   "cell_type": "code",
   "execution_count": 1355,
   "metadata": {},
   "outputs": [],
   "source": [
    "def fitness(x, dataLatih):\n",
    "    count = 0\n",
    "    for i in range (len(dataLatih)):\n",
    "        conn = False\n",
    "        k = 0\n",
    "        while(conn == False and len(x)!=k):\n",
    "            temp1 = []\n",
    "            temp2 = []\n",
    "            for j in range(len(x[k])-1):\n",
    "                if x[k][j] and dataLatih[i][j]:\n",
    "                    temp1.append(1)\n",
    "                else:\n",
    "                    temp1.append(0)\n",
    "    \n",
    "            if temp1[0] or temp1[1] or temp1[2]:\n",
    "                temp2.append(1)\n",
    "            else:\n",
    "                temp2.append(0)\n",
    "            if temp1[3] or temp1[4] or temp1[5] or temp1[6]:\n",
    "                temp2.append(1)\n",
    "            else:\n",
    "                temp2.append(0)\n",
    "            if temp1[7] or temp1[8] or temp1[9] or temp1[10]:\n",
    "                temp2.append(1)\n",
    "            else:\n",
    "                temp2.append(0)\n",
    "            if temp1[11] or temp1[12] or temp1[13]:\n",
    "                temp2.append(1)\n",
    "            else:\n",
    "                temp2.append(0)\n",
    "            \n",
    "            if (temp2[0] and temp2[1] and temp2[2] and temp2[3]) == 1:\n",
    "                if x[k][-1] == dataLatih[i][-1]:\n",
    "                    count += 1\n",
    "                    conn = True\n",
    "            elif len(x)==1 or (k==len(x)-1):\n",
    "                if (temp2[0] and temp2[1] and temp2[2] and temp2[3]) == 0:\n",
    "                    if x[k][-1] != dataLatih[i][-1]:\n",
    "                        count += 1\n",
    "            k += 1\n",
    "    fitness = (count/len(dataLatih)) * 100\n",
    "    \n",
    "    if fitness != 0:\n",
    "        dataCoba = deepcopy(dataTrainBinary)\n",
    "\n",
    "        for k in range(len(dataCoba)):\n",
    "            del dataCoba[k][14]\n",
    "\n",
    "        listUji = cekData(dataCoba,x)\n",
    "\n",
    "        itung = 0\n",
    "        for i in range(len(dataCoba)):\n",
    "            if listUji[i] == dataTrainBinary[i][14]:\n",
    "                itung += 1\n",
    "\n",
    "        fn = (itung/len(dataCoba))*100\n",
    "        if (fn != fitness):\n",
    "            fitness = fn\n",
    "    \n",
    "    return fitness"
   ]
  },
  {
   "cell_type": "markdown",
   "metadata": {},
   "source": [
    "### Elitism"
   ]
  },
  {
   "cell_type": "code",
   "execution_count": 1356,
   "metadata": {},
   "outputs": [],
   "source": [
    "def elitism(gen,fit):\n",
    "    sort = sorted(zip(fit,gen), reverse=True)\n",
    "    elitgen = []\n",
    "    elitfit = []   \n",
    "    for i in range(2):\n",
    "        elitgen.append(sort[i][1])\n",
    "        elitfit.append(sort[i][0])\n",
    "    return elitgen, elitfit"
   ]
  },
  {
   "cell_type": "markdown",
   "metadata": {},
   "source": [
    "### Tournament"
   ]
  },
  {
   "cell_type": "code",
   "execution_count": 1357,
   "metadata": {},
   "outputs": [],
   "source": [
    "def tournament(data,pop,dataLatih):\n",
    "    best = []\n",
    "    N = len(data)\n",
    "    for i in range(N):\n",
    "        k = i-1\n",
    "        bst = -1\n",
    "        for j in range((N//2)-2):\n",
    "            r = random.randint(0,N-1)\n",
    "            if bst == -1 or fitness(pop[r],dataLatih)>fitness(pop[bst],dataLatih):\n",
    "                bst = r\n",
    "        if not best or best[k]!=data[bst]:\n",
    "            best.append(data[bst])\n",
    "        else:\n",
    "            while(best[k]==data[bst]):\n",
    "                r = random.randint(0,N-1)\n",
    "                if bst != r:\n",
    "                    bst = r\n",
    "            best.append(data[bst])\n",
    "    return best"
   ]
  },
  {
   "cell_type": "markdown",
   "metadata": {},
   "source": [
    "### Crossover"
   ]
  },
  {
   "cell_type": "code",
   "execution_count": 1358,
   "metadata": {},
   "outputs": [],
   "source": [
    "def crossover(x1,x2,pc):\n",
    "    rr = random.uniform(0,1)\n",
    "    if rr<=pc:\n",
    "        R1 = random.randint(0,len(x1))\n",
    "        R2 = random.randint(0,len(x1))\n",
    "        while(R1==R2):\n",
    "            R2 = random.randint(0,len(x1)-1)\n",
    "\n",
    "        if R2<R1:\n",
    "            R2, R1 = R1, R2\n",
    "\n",
    "        A, B, C = deepcopy(x1[:R1]), deepcopy(x1[R1:R2]), deepcopy(x1[R2:])\n",
    "\n",
    "        diff = R2-R1\n",
    "        gap = diff % 15\n",
    "\n",
    "        conn = False\n",
    "        while conn != True:\n",
    "            R11 = random.randint(0,len(x2))\n",
    "            R12 = R11+gap\n",
    "            conn = R12 < 15\n",
    "\n",
    "        D, E, F = deepcopy(x2[:R11]), deepcopy(x2[R11:R12]), deepcopy(x2[R12:])\n",
    "\n",
    "        aa = (A+E+C)\n",
    "        ab = (D+B+F)\n",
    "        \n",
    "        return aa, ab\n",
    "    else:\n",
    "        return x1, x2"
   ]
  },
  {
   "cell_type": "markdown",
   "metadata": {},
   "source": [
    "### Mutasi"
   ]
  },
  {
   "cell_type": "code",
   "execution_count": 1359,
   "metadata": {},
   "outputs": [],
   "source": [
    "def mutasi(childm,lm):\n",
    "    length = len(childm)\n",
    "    for i in range(length):\n",
    "        r = np.random.uniform(0,1)\n",
    "        if r<=lm :\n",
    "            if childm[i] == 1:\n",
    "                childm[i] = 0\n",
    "            else:\n",
    "                childm[i] = 1\n",
    "    return childm"
   ]
  },
  {
   "cell_type": "markdown",
   "metadata": {},
   "source": [
    "### Pengecekan Data"
   ]
  },
  {
   "cell_type": "code",
   "execution_count": 1360,
   "metadata": {},
   "outputs": [],
   "source": [
    "def cekData(dataUjiBinary,gensim):\n",
    "    pdu = len(dataUjiBinary)\n",
    "    listk = []\n",
    "    for i in range(pdu):\n",
    "        conn = False\n",
    "        k = 0\n",
    "        while(conn == False and len(gensim)!=k):\n",
    "            temp1 = []\n",
    "            temp2 = []\n",
    "            for j in range(len(gensim[k])-1):\n",
    "                if dataUjiBinary[i][j] and gensim[k][j]:\n",
    "                    temp1.append(1)\n",
    "                else:\n",
    "                    temp1.append(0)\n",
    "            if temp1[0] or temp1[1] or temp1[2]:\n",
    "                temp2.append(1)\n",
    "            else:\n",
    "                temp2.append(0)\n",
    "            if temp1[3] or temp1[4] or temp1[5] or temp1[6]:\n",
    "                temp2.append(1)\n",
    "            else:\n",
    "                temp2.append(0)\n",
    "            if temp1[7] or temp1[8] or temp1[9] or temp1[10]:\n",
    "                temp2.append(1)\n",
    "            else:\n",
    "                temp2.append(0)\n",
    "            if temp1[11] or temp1[12] or temp1[13]:\n",
    "                temp2.append(1)\n",
    "            else:\n",
    "                temp2.append(0)\n",
    "\n",
    "            if (temp2[0] and temp2[1] and temp2[2] and temp2[3]) == 1:\n",
    "                if gensim[k][14] == 1:\n",
    "                    listk.append(1)\n",
    "                else:\n",
    "                    listk.append(0)\n",
    "                conn = True\n",
    "            elif (len(gensim)==1 or k==len(gensim)-1):\n",
    "                if (temp2[0] and temp2[1] and temp2[2] and temp2[3]) == 0:\n",
    "                    if gensim[k][14] == 0:\n",
    "                        listk.append(1)\n",
    "                    else:\n",
    "                        listk.append(0)\n",
    "            k += 1\n",
    "    return listk"
   ]
  },
  {
   "cell_type": "markdown",
   "metadata": {},
   "source": [
    "# MAIN PROGRAM"
   ]
  },
  {
   "cell_type": "code",
   "execution_count": 1368,
   "metadata": {
    "scrolled": true
   },
   "outputs": [
    {
     "name": "stdout",
     "output_type": "stream",
     "text": [
      "Best Generation - 0\n",
      "63.74999999999999\n",
      "[0, 1, 0, 0, 1, 0, 1, 0, 1, 0, 0, 1, 0, 1, 0, 1, 0, 1, 1, 1, 0, 0, 1, 0, 0, 1, 1, 1, 1, 1, 1, 1, 0, 1, 0, 0, 0, 1, 0, 1, 0, 0, 0, 1, 1, 1, 1, 0, 0, 0, 0, 1, 0, 1, 0, 1, 1, 1, 1, 1]\n",
      "\n",
      "Best Generation - 10\n",
      "70.0\n",
      "[0, 1, 1, 1, 1, 0, 1, 0, 0, 0, 0, 0, 1, 0, 0, 0, 1, 1, 1, 1, 0, 0, 0, 1, 0, 0, 1, 0, 0, 1, 1, 0, 1, 1, 1, 0, 0, 1, 1, 0, 1, 1, 1, 1, 1, 1, 1, 0, 1, 0, 0, 0, 0, 0, 1, 0, 0, 0, 1, 1, 1, 1, 0, 0, 0, 0, 1, 0, 1, 0, 1, 1, 1, 0, 1]\n",
      "\n",
      "Best Generation - 20\n",
      "77.5\n",
      "[0, 0, 0, 0, 0, 1, 0, 1, 0, 0, 0, 0, 0, 1, 0, 0, 0, 1, 1, 1, 1, 0, 1, 0, 0, 0, 1, 0, 1, 1, 1, 0, 0, 0, 1, 0, 0, 1, 0, 0, 1, 1, 0, 1, 1, 1, 0, 0, 1, 1, 0, 1, 1, 1, 1, 1, 1, 1, 0, 1, 0, 0, 0, 0, 0, 1, 0, 0, 0, 1, 1, 0, 1, 0, 0, 1, 0, 1, 1, 1, 1, 0, 0, 1, 0, 0, 1, 0, 0, 1, 1, 0, 1, 1, 1, 0, 0, 1, 1, 1, 0, 1, 1, 1, 1, 1, 1, 0, 1, 0, 0, 0, 0, 0, 1, 0, 0, 0, 1, 1, 1, 1, 0, 1, 0, 0, 0, 0, 1, 0, 1, 1, 1, 0, 1]\n",
      "\n",
      "Best Generation - 30\n",
      "80.0\n",
      "[1, 1, 1, 1, 0, 0, 1, 1, 0, 1, 1, 1, 0, 0, 1, 1, 1, 0, 1, 1, 1, 1, 1, 1, 0, 1, 0, 0, 0, 0, 0, 1, 0, 0, 0, 1, 0, 0, 0, 0, 0, 1, 0, 0, 0, 1, 1, 1, 1, 0, 1, 0, 1, 0, 0, 0, 0, 0, 1, 0, 0, 0, 1, 1, 1, 1, 0, 1, 0, 0, 0, 1, 0, 1, 1, 1, 0, 0, 0, 1, 0, 0, 1, 0, 0, 1, 1, 0, 1, 1, 1, 0, 0, 1, 1, 0, 1, 1, 1, 1, 1, 1, 1, 0, 1, 0, 0, 0, 0, 0, 1, 0, 0, 0, 1, 1, 0, 1, 0, 0, 1, 0, 1, 1, 1, 1, 0, 0, 1, 0, 0, 1, 0, 0, 1, 1, 0, 1, 1, 1, 0, 0, 1, 1, 1, 0, 1, 1, 1, 1, 1, 1, 0, 1, 0, 0, 0, 0, 0, 1, 0, 0, 0, 1, 1, 1, 1, 0, 1, 0, 0, 0, 0, 1, 0, 1, 1, 1, 0, 1]\n",
      "\n",
      "Best Generation - 40\n",
      "78.75\n",
      "[1, 1, 1, 1, 0, 0, 1, 1, 0, 1, 1, 1, 0, 0, 1, 1, 1, 1, 0, 0, 1, 1, 0, 1, 0, 1, 0, 0, 0, 0, 0, 1, 0, 0, 0, 1, 0, 0, 0, 0, 0, 1, 0, 0, 0, 1, 0, 1, 1, 1, 0, 0, 1, 1, 1, 0, 1, 0, 1, 1, 1, 0, 0, 1, 1, 0, 1, 1, 1, 1, 1, 1, 1, 0, 1, 0, 0, 0, 0, 0, 1, 0, 0, 0, 1, 1, 0, 1, 0, 0, 1, 0, 1, 1, 1, 1, 0, 0, 1, 0, 0, 1, 0, 0, 1, 1, 0, 1, 1, 1, 0, 0, 1, 1, 1, 0, 1, 1, 1, 1, 1, 1, 0, 1, 0, 0, 0, 0, 0, 1, 0, 0, 0, 1, 1, 1, 1, 0, 1, 0, 0, 0, 0, 1, 0, 1, 1, 1, 0, 1]\n",
      "\n",
      "Best Generation - 50\n",
      "78.75\n",
      "[1, 1, 1, 1, 0, 0, 1, 1, 0, 1, 1, 1, 0, 0, 1, 1, 1, 1, 0, 0, 1, 1, 0, 1, 0, 1, 0, 0, 0, 0, 0, 1, 0, 0, 0, 1, 0, 0, 1, 1, 1, 1, 0, 0, 1, 1, 0, 1, 1, 1, 0, 0, 1, 1, 1, 1, 1, 1, 0, 1, 0, 0, 0, 0, 0, 1, 0, 1, 1, 0, 1, 0, 1, 0, 0, 1, 0, 1, 1, 1, 1, 0, 0, 1, 0, 0, 1, 0, 0, 1, 1, 0, 1, 1, 1, 0, 0, 1, 1, 1, 0, 1, 1, 1, 1, 1, 1, 0, 1, 0, 0, 0, 0, 0, 1, 0, 0, 0, 1, 1, 1, 1, 0, 1, 0, 0, 0, 0, 1, 0, 1, 1, 1, 0, 1]\n",
      "\n",
      "Best Generation - 60\n",
      "78.75\n",
      "[1, 1, 1, 1, 0, 0, 1, 1, 0, 1, 1, 1, 0, 0, 1, 1, 1, 1, 1, 1, 0, 1, 0, 0, 0, 0, 0, 1, 0, 1, 1, 0, 1, 0, 1, 0, 0, 1, 0, 1, 1, 1, 0, 0, 1, 1, 1, 1, 0, 0, 1, 1, 0, 1, 0, 1, 0, 0, 0, 0, 0, 1, 0, 0, 0, 1, 0, 0, 1, 1, 1, 1, 0, 0, 1, 1, 0, 1, 1, 1, 0, 0, 1, 1, 1, 1, 1, 1, 0, 1, 0, 0, 1, 1, 1, 1, 1, 1, 0, 1, 1, 0, 1, 0, 0, 1, 0, 1, 1, 1, 1, 0, 0, 1, 0, 0, 1, 0, 0, 1, 1, 0, 1, 1, 1, 0, 0, 1, 1, 1, 0, 1, 1, 1, 1, 1, 1, 0, 1, 0, 0, 0, 0, 0, 0, 1, 0, 1, 1, 1, 0, 1, 0, 1, 0, 0, 0, 0, 1, 0, 1, 1, 1, 0, 1]\n",
      "\n",
      "Best Generation - 70\n",
      "83.75\n",
      "[1, 0, 1, 0, 1, 1, 1, 1, 0, 0, 1, 0, 0, 0, 0, 0, 0, 0, 1, 1, 1, 1, 0, 0, 1, 1, 0, 1, 0, 1, 0, 0, 0, 0, 0, 1, 0, 0, 0, 1, 0, 0, 1, 1, 1, 1, 0, 0, 1, 1, 0, 1, 1, 1, 0, 0, 1, 1, 1, 1, 1, 1, 0, 1, 0, 0, 0, 0, 0, 1, 0, 0, 0, 1, 1, 0, 1, 0, 0, 1, 0, 1, 1, 1, 1, 0, 0, 1, 0, 0, 1, 0, 0, 1, 1, 0, 1, 1, 1, 0, 0, 1, 1, 1, 0, 1, 1, 1, 1, 0, 0, 1, 1, 0, 1, 1, 1, 0, 0, 1, 1, 1, 1, 1, 1, 0, 0, 1, 0, 1, 1, 1, 0, 0, 1, 1, 1, 1, 0, 0, 1, 1, 0, 1, 0, 1, 0, 0, 0, 0, 0, 1, 0, 0, 0, 1, 0, 0, 1, 1, 1, 1, 0, 0, 1, 1, 0, 1, 1, 1, 0, 0, 1, 1, 1, 1, 1, 1, 0, 1, 0, 0, 0, 0, 0, 1, 0, 0, 0, 1, 1, 0, 1, 0, 0, 1, 0, 1, 1, 1, 1, 0, 0, 1, 0, 0, 1, 0, 0, 1, 1, 0, 1, 1, 1, 0, 0, 1, 1, 1, 0, 1, 1, 1, 1, 1, 1, 0, 1, 0, 0, 0, 0, 0, 0, 1, 0, 1, 1, 1, 0, 1, 0, 1, 0, 0, 0, 0, 1, 0, 1, 1, 1, 0, 1]\n",
      "\n",
      "Best Generation - 80\n",
      "83.75\n",
      "[1, 0, 1, 1, 1, 1, 1, 1, 0, 1, 0, 0, 0, 0, 0, 0, 1, 1, 1, 1, 1, 0, 1, 0, 1, 0, 0, 0, 1, 0, 1, 0, 0, 1, 1, 1, 1, 0, 0, 1, 1, 0, 1, 0, 1, 0, 0, 0, 0, 0, 1, 0, 0, 0, 1, 1, 0, 1, 1, 1, 1, 0, 0, 1, 1, 0, 1, 1, 1, 0, 0, 1, 1, 1, 1, 1, 0, 0, 1, 0, 0, 0, 0, 0, 1, 0, 0, 0, 1, 1, 0, 1, 1, 0, 1, 0, 1, 1, 1, 1, 0, 0, 1, 0, 0, 1, 0, 0, 1, 1, 0, 1, 1, 1, 0, 0, 1, 1, 1, 0, 1, 1, 1, 1, 0, 0, 1, 1, 0, 1, 1, 1, 0, 0, 1, 1, 1, 1, 1, 1, 0, 0, 1, 0, 1, 1, 1, 0, 1, 1, 1, 1, 1, 0, 0, 1, 1, 0, 1, 0, 1, 0, 0, 0, 0, 0, 1, 0, 0, 0, 1, 0, 0, 1, 1, 1, 1, 0, 0, 1, 0, 0, 1, 1, 1, 0, 0, 1, 1, 1, 1, 1, 1, 0, 1, 0, 0, 0, 0, 0, 1, 0, 0, 0, 1, 1, 0, 1, 0, 0, 1, 0, 1, 1, 1, 1, 0, 0, 1, 0, 0, 1, 1, 0, 1, 1, 0, 1, 1, 1, 0, 0, 1, 1, 1, 0, 0, 1, 1, 1, 0, 1, 0, 1, 0, 0, 0, 0, 0, 0, 1, 1, 1, 1, 1, 0, 1, 0, 1, 0, 0, 0, 0, 1, 0, 1, 1, 1, 0, 1]\n",
      "\n",
      "Best Generation - 90\n",
      "83.75\n",
      "[1, 0, 1, 0, 1, 1, 0, 0, 0, 1, 0, 0, 1, 1, 1, 1, 0, 0, 1, 1, 0, 1, 1, 1, 0, 0, 1, 1, 1, 1, 1, 1, 0, 1, 0, 0, 0, 0, 0, 1, 1, 0, 0, 0, 0, 1, 0, 0, 1, 1, 0, 1, 1, 1, 0, 0, 1, 1, 1, 0, 1, 1, 1, 1, 0, 0, 1, 1, 0, 1, 1, 1, 0, 0, 1, 1, 1, 1, 1, 1, 0, 0, 1, 0, 1, 1, 1, 0, 0, 1, 1, 1, 1, 0, 0, 1, 1, 0, 1, 0, 1, 0, 0, 0, 0, 0, 1, 0, 0, 0, 1, 0, 0, 1, 1, 1, 1, 0, 0, 1, 1, 0, 1, 1, 1, 0, 0, 1, 1, 1, 1, 1, 1, 0, 1, 0, 0, 0, 0, 0, 1, 0, 0, 0, 1, 1, 0, 1, 0, 0, 1, 0, 1, 1, 1, 1, 0, 0, 1, 0, 0, 1, 0, 0, 1, 1, 0, 1, 1, 1, 0, 0, 1, 1, 1, 0, 1, 1, 1, 1, 1, 1, 0, 1, 0, 0, 0, 0, 0, 0, 1, 0, 1, 1, 0, 0, 0, 0, 1, 1, 1, 1, 0, 0, 1, 1, 0, 1, 0, 1, 0, 0, 0, 0, 0, 0, 0, 1, 1, 0, 1, 0, 0, 1, 0, 1, 0, 0, 1, 1, 0, 1, 1, 1, 0, 0, 1, 1, 1, 1, 1, 1, 0, 1, 0, 0, 0, 0, 0, 1, 0, 0, 0, 1, 1, 0, 1, 0, 0, 1, 0, 1, 1, 1, 1, 0, 0, 1, 0, 0, 1, 0, 0, 1, 1, 0, 1, 1, 1, 0, 0, 1, 1, 1, 0, 1, 1, 1, 1, 0, 0, 1, 1, 0, 1, 1, 1, 0, 0, 1, 1, 1, 1, 1, 1, 0, 0, 1, 1, 1, 1, 0, 0, 1, 0, 0, 1, 1, 0, 0, 1, 1, 0, 1, 0, 1, 0, 0, 0, 0, 0, 1, 0, 0, 0, 1, 0, 0, 1, 1, 1, 1, 0, 0, 1, 1, 0, 1, 1, 1, 0, 0, 1, 1, 1, 1, 1, 1, 0, 1, 0, 0, 0, 0, 0, 1, 0, 0, 0, 1, 1, 0, 1, 0, 0, 1, 0, 1, 1, 1, 1, 0, 0, 1, 0, 0, 1, 0, 0, 1, 1, 0, 1, 1, 1, 0, 0, 1, 1, 1, 0, 1, 1, 1, 1, 1, 1, 0, 1, 0, 0, 0, 0, 0, 0, 1, 0, 1, 1, 1, 0, 1, 0, 1, 0, 0, 0, 0, 1, 0, 1, 1, 1, 0, 1]\n",
      "\n",
      "Best Generation - 100\n",
      "83.75\n",
      "[1, 0, 0, 1, 1, 0, 1, 1, 1, 0, 0, 1, 1, 1, 1, 1, 1, 0, 1, 0, 0, 0, 0, 0, 1, 0, 0, 0, 1, 1, 0, 1, 0, 0, 1, 0, 1, 1, 0, 1, 0, 1, 1, 1, 1, 0, 1, 0, 1, 0, 0, 0, 0, 1, 0, 1, 1, 0, 0, 1, 1, 0, 1, 0, 1, 0, 0, 0, 0, 0, 0, 0, 1, 0, 0, 1, 1, 1, 0, 0, 1, 1, 0, 1, 0, 1, 0, 0, 0, 0, 0, 0, 0, 1, 1, 0, 1, 0, 0, 1, 0, 1, 0, 0, 1, 1, 0, 1, 1, 1, 0, 0, 1, 1, 1, 1, 1, 0, 1, 1, 0, 1, 1, 1, 0, 0, 1, 1, 1, 1, 1, 1, 0, 0, 1, 1, 1, 1, 0, 0, 1, 1, 0, 1, 0, 1, 0, 0, 0, 0, 0, 1, 0, 0, 0, 1, 0, 0, 1, 1, 1, 1, 0, 0, 1, 1, 0, 1, 1, 1, 0, 0, 1, 1, 1, 1, 1, 1, 0, 1, 0, 0, 0, 0, 0, 1, 0, 0, 0, 1, 1, 0, 1, 0, 0, 1, 0, 1, 1, 1, 1, 0, 0, 1, 0, 0, 1, 0, 0, 1, 1, 0, 1, 1, 1, 0, 0, 1, 1, 1, 0, 1, 0, 1, 1, 0, 0, 0, 1, 0, 1, 1, 0, 0, 1, 1, 0, 1, 0, 1, 0, 0, 0, 0, 0, 0, 0, 1, 1, 0, 1, 0, 0, 1, 0, 1, 0, 0, 1, 1, 0, 1, 1, 1, 0, 0, 1, 1, 1, 1, 1, 1, 0, 1, 0, 0, 0, 0, 0, 1, 0, 0, 0, 1, 1, 0, 1, 0, 0, 1, 0, 1, 1, 0, 1, 0, 1, 1, 1, 1, 0, 1, 0, 1, 0, 0, 0, 0, 1, 0, 1, 1, 1, 0, 1]\n",
      "\n",
      "Best Generation - 110\n",
      "85.0\n",
      "[1, 0, 0, 1, 1, 0, 1, 0, 1, 0, 1, 1, 0, 0, 1, 1, 0, 1, 0, 1, 0, 0, 0, 0, 0, 1, 0, 0, 1, 0, 0, 1, 0, 1, 1, 1, 0, 0, 0, 1, 1, 0, 1, 1, 0, 1, 0, 1, 1, 1, 1, 0, 0, 1, 0, 0, 1, 0, 0, 1, 1, 0, 0, 1, 1, 0, 0, 1, 1, 1, 0, 1, 0, 0, 1, 1, 0, 1, 0, 1, 0, 0, 0, 0, 0, 0, 0, 1, 0, 0, 1, 1, 1, 0, 0, 1, 1, 0, 1, 0, 1, 0, 0, 0, 0, 0, 0, 0, 1, 1, 0, 1, 0, 0, 1, 0, 1, 0, 0, 1, 1, 0, 1, 1, 1, 0, 0, 1, 1, 1, 1, 0, 0, 1, 1, 0, 1, 1, 1, 0, 0, 1, 1, 1, 1, 1, 1, 0, 0, 1, 1, 1, 1, 0, 0, 1, 1, 0, 1, 0, 1, 0, 0, 0, 0, 0, 1, 0, 0, 0, 0, 0, 0, 1, 1, 1, 0, 0, 0, 1, 1, 0, 1, 1, 1, 0, 0, 1, 1, 1, 1, 1, 1, 0, 1, 0, 0, 0, 0, 1, 1, 0, 0, 0, 1, 1, 0, 1, 0, 0, 1, 0, 1, 1, 0, 1, 0, 0, 1, 0, 0, 1, 0, 0, 1, 0, 0, 1, 1, 1, 0, 0, 1, 1, 1, 0, 1, 0, 1, 1, 0, 0, 0, 1, 0, 1, 1, 0, 0, 1, 1, 0, 1, 0, 1, 0, 0, 0, 0, 0, 0, 0, 1, 1, 0, 1, 0, 0, 1, 0, 1, 0, 0, 1, 1, 1, 1, 1, 1, 0, 0, 1, 1, 1, 1, 1, 1, 0, 1, 0, 0, 0, 0, 0, 1, 0, 0, 0, 1, 1, 0, 1, 0, 0, 1, 0, 1, 1, 0, 1, 0, 1, 1, 1, 1, 0, 1, 0, 1, 0, 0, 0, 0, 1, 0, 1, 1, 1, 0, 1]\n",
      "\n",
      "Best Generation - 120\n",
      "85.0\n",
      "[1, 0, 1, 1, 1, 1, 1, 1, 0, 1, 0, 0, 0, 0, 0, 0, 0, 0, 1, 1, 0, 1, 0, 0, 0, 1, 1, 0, 0, 1, 1, 0, 1, 0, 1, 0, 0, 0, 0, 0, 0, 0, 0, 1, 0, 0, 1, 0, 1, 1, 1, 0, 0, 0, 1, 1, 0, 1, 0, 0, 1, 0, 1, 1, 1, 1, 0, 0, 1, 0, 0, 1, 0, 0, 1, 1, 0, 1, 1, 1, 0, 0, 1, 1, 1, 0, 1, 0, 0, 1, 1, 0, 1, 0, 1, 0, 0, 0, 0, 0, 0, 0, 1, 0, 0, 1, 1, 1, 0, 0, 1, 1, 0, 1, 0, 1, 0, 0, 0, 0, 0, 0, 0, 1, 1, 0, 1, 0, 0, 1, 0, 1, 0, 0, 1, 1, 0, 1, 1, 1, 0, 0, 1, 1, 1, 1, 1, 0, 1, 1, 0, 1, 1, 1, 0, 0, 1, 1, 1, 1, 1, 1, 0, 0, 1, 1, 1, 1, 0, 0, 1, 1, 0, 1, 0, 1, 0, 0, 0, 0, 0, 1, 0, 0, 0, 1, 0, 0, 1, 1, 1, 1, 0, 0, 1, 1, 0, 1, 1, 1, 0, 0, 1, 1, 1, 1, 1, 1, 0, 1, 0, 0, 0, 0, 0, 1, 0, 0, 0, 1, 1, 0, 1, 0, 0, 1, 0, 1, 1, 1, 1, 0, 0, 1, 0, 0, 1, 0, 0, 1, 1, 0, 1, 1, 1, 0, 0, 1, 1, 1, 0, 1, 0, 1, 1, 0, 0, 0, 1, 0, 1, 1, 0, 0, 1, 1, 0, 1, 0, 1, 0, 0, 0, 0, 0, 0, 0, 1, 1, 0, 1, 0, 0, 1, 0, 1, 0, 0, 1, 1, 0, 1, 1, 1, 0, 0, 1, 1, 1, 1, 1, 1, 0, 1, 0, 0, 0, 0, 0, 1, 0, 0, 0, 1, 1, 0, 1, 0, 0, 1, 0, 1, 1, 0, 1, 0, 1, 1, 1, 1, 0, 1, 0, 1, 0, 0, 0, 0, 1, 0, 1, 1, 1, 0, 1]\n",
      "\n"
     ]
    },
    {
     "name": "stdout",
     "output_type": "stream",
     "text": [
      "Best Generation - 130\n",
      "83.75\n",
      "[1, 0, 1, 0, 1, 1, 0, 1, 0, 1, 1, 0, 0, 0, 0, 0, 1, 1, 1, 0, 1, 0, 0, 1, 1, 0, 1, 0, 1, 0, 0, 0, 0, 0, 0, 0, 1, 0, 0, 1, 1, 1, 0, 0, 0, 0, 0, 0, 0, 1, 0, 0, 1, 1, 1, 0, 0, 1, 1, 0, 1, 0, 1, 0, 0, 0, 0, 0, 0, 0, 1, 1, 0, 1, 0, 0, 1, 0, 1, 0, 0, 1, 1, 0, 1, 1, 1, 0, 0, 1, 1, 1, 1, 1, 0, 1, 1, 0, 1, 1, 1, 0, 0, 0, 0, 0, 0, 0, 1, 1, 0, 1, 0, 0, 0, 1, 1, 0, 0, 1, 1, 0, 1, 0, 1, 0, 0, 0, 0, 0, 0, 1, 1, 1, 0, 0, 1, 1, 1, 0, 1, 0, 0, 1, 1, 0, 1, 0, 1, 0, 0, 0, 0, 0, 0, 0, 1, 0, 0, 1, 1, 1, 0, 0, 0, 0, 0, 0, 0, 1, 0, 0, 1, 1, 1, 0, 0, 1, 1, 0, 1, 0, 1, 0, 0, 0, 0, 0, 0, 0, 1, 1, 0, 1, 0, 0, 1, 0, 1, 0, 0, 1, 1, 0, 1, 1, 1, 0, 0, 1, 1, 1, 1, 1, 0, 1, 1, 0, 1, 1, 1, 0, 0, 0, 0, 0, 0, 0, 1, 1, 0, 1, 0, 0, 0, 1, 1, 0, 0, 1, 1, 0, 1, 0, 1, 0, 0, 0, 0, 0, 0, 0, 0, 1, 0, 0, 1, 0, 1, 1, 1, 0, 0, 0, 1, 1, 0, 1, 0, 0, 1, 0, 1, 1, 1, 1, 0, 0, 1, 0, 0, 1, 0, 0, 1, 1, 0, 1, 1, 1, 0, 0, 1, 1, 1, 1, 1, 0, 1, 1, 0, 1, 1, 1, 0, 0, 1, 1, 1, 1, 1, 1, 0, 0, 1, 1, 1, 1, 0, 0, 1, 1, 0, 1, 0, 1, 0, 0, 0, 0, 0, 1, 0, 0, 0, 1, 0, 0, 1, 1, 1, 1, 0, 0, 1, 1, 0, 1, 1, 1, 0, 0, 1, 1, 1, 1, 1, 1, 0, 1, 0, 0, 0, 0, 0, 1, 0, 0, 0, 1, 1, 0, 1, 0, 0, 1, 0, 1, 1, 1, 1, 0, 0, 1, 0, 0, 1, 0, 0, 1, 1, 0, 1, 1, 1, 0, 0, 1, 1, 1, 0, 1, 0, 1, 1, 0, 0, 0, 1, 0, 1, 1, 0, 0, 1, 1, 0, 1, 0, 1, 0, 0, 0, 0, 0, 0, 0, 1, 1, 0, 1, 0, 0, 1, 0, 1, 0, 0, 1, 1, 0, 1, 1, 1, 0, 0, 1, 1, 1, 1, 1, 1, 0, 1, 0, 0, 0, 0, 0, 1, 0, 0, 0, 1, 1, 0, 1, 0, 0, 1, 0, 1, 1, 0, 1, 0, 1, 1, 1, 1, 0, 1, 0, 1, 0, 0, 0, 0, 1, 0, 1, 1, 1, 0, 1]\n",
      "\n",
      "Best Generation - 140\n",
      "85.0\n",
      "[1, 0, 1, 0, 0, 1, 0, 0, 1, 1, 0, 0, 1, 1, 0, 0, 1, 1, 1, 0, 1, 0, 0, 1, 0, 0, 1, 1, 0, 1, 1, 0, 1, 0, 1, 0, 0, 0, 0, 0, 0, 0, 0, 1, 0, 0, 1, 0, 1, 1, 1, 0, 0, 0, 1, 1, 0, 1, 0, 0, 1, 0, 1, 1, 1, 1, 0, 0, 1, 0, 0, 1, 0, 0, 1, 1, 0, 1, 1, 1, 0, 0, 1, 1, 1, 1, 1, 0, 1, 1, 0, 1, 1, 1, 0, 0, 1, 1, 1, 1, 1, 1, 0, 0, 1, 1, 1, 1, 0, 0, 1, 1, 0, 1, 0, 1, 0, 0, 0, 0, 0, 1, 0, 0, 0, 1, 0, 0, 1, 1, 1, 1, 0, 0, 1, 1, 0, 1, 1, 1, 0, 0, 1, 1, 1, 1, 1, 1, 0, 1, 0, 0, 0, 0, 0, 1, 0, 0, 1, 0, 1, 0, 0, 1, 0, 1, 0, 0, 1, 1, 0, 1, 1, 1, 0, 0, 1, 1, 1, 1, 1, 1, 0, 1, 0, 0, 0, 0, 0, 1, 0, 0, 0, 1, 1, 0, 1, 0, 0, 1, 0, 1, 1, 0, 1, 0, 1, 1, 1, 1, 0, 1, 0, 1, 0, 0, 0, 0, 1, 0, 1, 1, 1, 0, 1]\n",
      "\n",
      "Best Generation - 150\n",
      "85.0\n",
      "[1, 0, 1, 0, 0, 1, 0, 0, 1, 1, 0, 0, 1, 1, 0, 0, 1, 1, 1, 0, 1, 0, 0, 1, 0, 0, 1, 1, 0, 1, 1, 0, 1, 0, 1, 0, 0, 1, 0, 0, 1, 0, 0, 1, 0, 0, 1, 0, 1, 1, 1, 0, 0, 0, 1, 1, 0, 1, 0, 0, 1, 0, 1, 1, 1, 1, 0, 0, 1, 0, 0, 1, 0, 0, 1, 1, 0, 0, 1, 1, 0, 1, 0, 1, 0, 0, 0, 0, 1, 1, 0, 1, 1, 1, 0, 0, 1, 1, 1, 1, 1, 1, 0, 0, 1, 1, 1, 1, 0, 0, 1, 1, 0, 1, 0, 1, 0, 0, 0, 0, 0, 1, 0, 0, 0, 1, 0, 0, 1, 1, 1, 1, 0, 0, 1, 1, 0, 1, 1, 1, 0, 0, 1, 1, 1, 1, 1, 1, 0, 1, 0, 0, 0, 0, 0, 1, 0, 0, 1, 0, 1, 0, 0, 1, 0, 1, 0, 0, 1, 1, 0, 1, 1, 1, 0, 0, 1, 1, 1, 1, 1, 1, 0, 1, 0, 0, 0, 0, 0, 1, 0, 0, 0, 1, 1, 0, 1, 0, 0, 1, 0, 1, 1, 0, 1, 0, 1, 1, 1, 1, 0, 1, 0, 1, 0, 0, 0, 0, 1, 0, 1, 1, 1, 0, 1]\n",
      "\n",
      "Best Generation - 160\n",
      "85.0\n",
      "[1, 0, 1, 0, 0, 1, 0, 0, 1, 1, 0, 0, 1, 1, 0, 0, 1, 1, 1, 0, 1, 0, 0, 1, 0, 0, 1, 1, 0, 1, 1, 0, 1, 0, 1, 0, 0, 1, 0, 0, 1, 0, 0, 1, 0, 0, 1, 0, 1, 1, 1, 0, 0, 0, 1, 1, 0, 1, 0, 0, 1, 0, 1, 1, 1, 1, 0, 0, 1, 0, 0, 1, 0, 0, 1, 1, 0, 0, 1, 1, 0, 1, 0, 1, 0, 0, 0, 0, 1, 1, 0, 1, 1, 1, 0, 0, 1, 1, 1, 1, 1, 1, 0, 0, 1, 1, 1, 1, 0, 0, 1, 1, 0, 1, 0, 1, 0, 0, 0, 0, 0, 1, 0, 0, 0, 1, 0, 0, 1, 1, 1, 1, 0, 0, 1, 1, 0, 1, 1, 1, 0, 0, 1, 1, 1, 1, 1, 1, 0, 1, 0, 0, 0, 0, 0, 1, 0, 0, 1, 0, 0, 1, 0, 1, 0, 1, 0, 0, 1, 1, 0, 1, 1, 1, 0, 0, 1, 1, 1, 1, 1, 1, 0, 1, 0, 0, 0, 0, 0, 1, 0, 0, 0, 1, 1, 0, 1, 0, 0, 1, 0, 1, 1, 0, 1, 0, 1, 1, 1, 1, 0, 1, 0, 1, 0, 0, 0, 0, 1, 0, 1, 1, 1, 0, 1]\n",
      "\n",
      "Best Generation - 170\n",
      "82.5\n",
      "[1, 0, 1, 0, 0, 1, 0, 0, 1, 1, 0, 0, 1, 1, 1, 0, 1, 0, 1, 1, 1, 0, 0, 0, 1, 1, 0, 1, 0, 0, 1, 0, 1, 0, 1, 0, 0, 1, 0, 0, 1, 1, 0, 0, 1, 1, 0, 0, 1, 1, 0, 1, 0, 1, 0, 0, 0, 0, 1, 1, 0, 1, 1, 1, 0, 0, 1, 1, 1, 1, 1, 1, 0, 0, 1, 1, 1, 1, 0, 0, 1, 1, 0, 1, 0, 1, 0, 0, 0, 0, 0, 1, 0, 0, 0, 1, 0, 0, 1, 1, 1, 1, 0, 0, 1, 1, 0, 1, 1, 1, 0, 0, 1, 1, 1, 1, 1, 1, 0, 1, 0, 0, 0, 0, 0, 1, 0, 0, 1, 0, 0, 1, 0, 1, 0, 1, 0, 0, 1, 1, 0, 1, 1, 1, 0, 0, 1, 1, 1, 1, 1, 1, 0, 1, 0, 0, 0, 0, 0, 1, 0, 0, 0, 1, 1, 0, 1, 0, 0, 1, 0, 1, 1, 0, 1, 0, 1, 1, 0, 1, 0, 1, 0, 1, 0, 0, 0, 0, 1, 0, 1, 1, 1, 0, 1]\n",
      "\n",
      "Best Generation - 180\n",
      "85.0\n",
      "[1, 0, 1, 0, 1, 0, 0, 0, 1, 0, 0, 0, 1, 0, 1, 1, 1, 0, 0, 0, 1, 1, 0, 1, 0, 0, 1, 0, 1, 0, 1, 0, 0, 1, 0, 0, 1, 1, 0, 0, 1, 1, 0, 0, 1, 0, 1, 0, 1, 1, 1, 0, 0, 0, 1, 1, 0, 1, 0, 0, 1, 0, 1, 0, 1, 0, 0, 1, 0, 0, 1, 1, 0, 0, 0, 1, 0, 0, 0, 0, 0, 1, 0, 1, 0, 0, 0, 0, 1, 1, 0, 1, 1, 1, 0, 0, 1, 1, 1, 1, 1, 1, 0, 0, 1, 1, 1, 1, 0, 0, 1, 1, 0, 1, 0, 1, 0, 0, 0, 0, 0, 1, 0, 0, 0, 1, 0, 0, 1, 1, 1, 1, 0, 0, 1, 1, 0, 1, 1, 1, 0, 0, 1, 1, 1, 1, 1, 1, 0, 1, 0, 0, 0, 0, 0, 1, 0, 0, 1, 0, 0, 1, 0, 1, 0, 1, 0, 0, 1, 1, 0, 1, 1, 1, 0, 0, 1, 1, 1, 1, 1, 1, 0, 1, 0, 0, 0, 0, 0, 1, 0, 0, 0, 1, 1, 0, 1, 0, 0, 1, 0, 1, 1, 0, 1, 0, 1, 1, 0, 1, 0, 1, 0, 1, 0, 0, 0, 0, 1, 0, 1, 1, 1, 0, 1, 0, 1, 1, 1, 0, 0, 1, 1, 1, 1, 1, 1, 0, 0, 1, 1, 1, 1, 0, 0, 1, 1, 0, 1, 0, 1, 0, 0, 0, 0, 0, 1, 0, 0, 0, 1, 0, 0, 1, 1, 1, 1, 0, 0, 1, 1, 0, 1, 1, 1, 0, 0, 1, 1, 1, 1, 1, 1, 0, 1, 0, 0, 0, 0, 0, 1, 0, 0, 1, 0, 0, 1, 0, 1, 0, 1, 0, 0, 1, 1, 0, 1, 1, 1, 0, 0, 1, 1, 1, 1, 1, 1, 0, 1, 0, 0, 0, 0, 0, 1, 0, 0, 0, 1, 1, 0, 1, 0, 0, 1, 0, 1, 1, 0, 1, 0, 1, 1, 0, 1, 0, 1, 0, 1, 0, 0, 0, 0, 1, 0, 1, 1, 1, 0, 1]\n",
      "\n",
      "Best Generation - 190\n",
      "86.25\n",
      "[0, 1, 1, 0, 0, 1, 1, 1, 1, 0, 0, 1, 0, 1, 0, 1, 0, 0, 1, 0, 0, 1, 1, 0, 0, 1, 1, 0, 0, 1, 0, 1, 0, 1, 1, 1, 0, 0, 0, 1, 1, 0, 1, 0, 0, 1, 0, 1, 0, 1, 0, 0, 1, 0, 0, 1, 1, 0, 0, 0, 1, 0, 0, 0, 0, 0, 1, 0, 1, 0, 0, 0, 0, 1, 1, 0, 1, 1, 1, 0, 0, 1, 1, 1, 1, 1, 1, 0, 0, 1, 1, 1, 1, 0, 0, 1, 1, 0, 1, 0, 1, 0, 0, 0, 0, 0, 1, 0, 0, 0, 1, 0, 0, 1, 1, 1, 1, 0, 0, 1, 1, 0, 1, 1, 1, 0, 0, 1, 1, 1, 1, 1, 1, 0, 1, 0, 0, 0, 0, 0, 1, 0, 0, 1, 0, 0, 1, 0, 1, 0, 1, 0, 0, 1, 1, 0, 1, 1, 1, 0, 0, 1, 1, 1, 1, 1, 1, 0, 1, 0, 0, 0, 0, 0, 1, 0, 0, 0, 1, 1, 0, 1, 0, 0, 1, 0, 1, 1, 0, 1, 0, 1, 1, 0, 1, 0, 1, 0, 1, 0, 0, 0, 0, 1, 0, 1, 1, 1, 0, 1, 0, 1, 1, 1, 0, 0, 1, 1, 1, 1, 1, 1, 0, 0, 1, 1, 1, 1, 0, 0, 1, 1, 0, 1, 0, 1, 0, 0, 0, 0, 0, 1, 0, 0, 0, 1, 0, 0, 1, 1, 1, 1, 0, 0, 1, 1, 0, 1, 1, 1, 0, 0, 1, 1, 1, 1, 1, 1, 0, 1, 0, 0, 0, 0, 0, 1, 0, 0, 1, 0, 0, 1, 0, 1, 0, 1, 0, 0, 1, 1, 0, 1, 1, 1, 0, 0, 1, 1, 1, 1, 1, 1, 0, 1, 0, 0, 0, 0, 1, 0, 1, 1, 1, 0, 1]\n",
      "\n",
      "\n",
      "Best Fitness(Akurasi) dan Individu(Tree):\n",
      "86.25  -  [0, 1, 1, 0, 0, 1, 1, 1, 1, 0, 0, 1, 0, 1, 0, 1, 0, 0, 1, 0, 0, 1, 1, 0, 0, 1, 1, 0, 0, 1, 0, 1, 0, 1, 1, 1, 0, 0, 0, 1, 1, 0, 1, 0, 0, 1, 0, 1, 0, 1, 0, 0, 1, 0, 0, 1, 1, 0, 0, 0, 1, 0, 0, 0, 0, 0, 1, 0, 1, 0, 0, 0, 0, 1, 1, 0, 1, 1, 1, 0, 0, 1, 1, 1, 1, 1, 1, 0, 0, 1, 1, 1, 1, 0, 0, 1, 1, 0, 1, 0, 1, 0, 0, 0, 0, 1, 1, 1, 1, 0, 0, 0, 0, 1, 1, 1, 1, 0, 0, 1, 1, 0, 1, 1, 1, 0, 0, 1, 1, 1, 1, 1, 1, 0, 1, 0, 0, 0, 0, 0, 1, 0, 0, 1, 0, 0, 1, 0, 1, 0, 1, 0, 0, 1, 1, 0, 1, 1, 1, 0, 0, 1, 1, 1, 1, 1, 1, 0, 1, 0, 0, 0, 0, 0, 1, 0, 0, 0, 1, 1, 0, 1, 0, 0, 1, 0, 1, 1, 0, 1, 0, 1, 1, 0, 1, 0, 1, 0, 1, 0, 0, 0, 0, 1, 0, 1, 1, 1, 0, 1, 0, 1, 1, 1, 0, 0, 1, 1, 1, 1, 1, 1, 0, 0, 1, 1, 1, 1, 0, 0, 1, 1, 0, 1, 0, 1, 0, 0, 0, 0, 0, 1, 0, 0, 0, 1, 0, 0, 1, 1, 1, 1, 0, 0, 1, 1, 0, 1, 1, 1, 0, 0, 1, 1, 1, 1, 1, 1, 0, 1, 0, 0, 0, 0, 0, 1, 0, 0, 1, 0, 0, 1, 0, 1, 0, 1, 0, 0, 1, 1, 0, 1, 1, 1, 0, 0, 1, 1, 1, 1, 1, 1, 0, 1, 0, 0, 0, 0, 1, 0, 1, 1, 1, 0, 1]\n"
     ]
    }
   ],
   "source": [
    "pop = 20\n",
    "pmut = 1/pop\n",
    "pcross = 0.7\n",
    "generasi = 200\n",
    "dataTrainBinary = convertRule(dataTrainList)\n",
    "\n",
    "#Buat populasi untuk generasi pertama\n",
    "gen = buatKromosom(pop)\n",
    "    \n",
    "# Perulangan Generasi\n",
    "for g in range(generasi):\n",
    "    \n",
    "    #Cek Fitness/Akurasi populasi gen\n",
    "    fit = []\n",
    "    sa = []\n",
    "    for i in range(pop):\n",
    "        gensim = []\n",
    "        pj = len(gen[i])//15\n",
    "        lf = deepcopy(gen[i])\n",
    "        for j in range(pj):\n",
    "            sim = []\n",
    "            for k in range(15):\n",
    "                sim.append(lf[0])\n",
    "                del lf[0]\n",
    "            gensim.append(sim)\n",
    "        sa.append(gensim)\n",
    "        fit.append(fitness(gensim,dataTrainBinary))\n",
    "    \n",
    "    #Melakukan Elitism\n",
    "    eg = []\n",
    "    ef = []\n",
    "    eg, ef = elitism(gen,fit)\n",
    "    elit = sorted(zip(ef,eg), reverse=True)\n",
    "#     print('Gen ',g)\n",
    "#     print(*elit, sep = \"\\n\")\n",
    "\n",
    "    #SELEKSI PARENT\n",
    "    psel = []\n",
    "    psel = tournament(gen,sa,dataTrainBinary)\n",
    "\n",
    "    #CROSSOVER\n",
    "    child = []\n",
    "    i = 0\n",
    "    while (i!=len(psel)):\n",
    "        child.extend(crossover(psel[i],psel[i+1],pcross))\n",
    "        i = i+2\n",
    "\n",
    "    #MUTASI\n",
    "    for i in range(len(child)):\n",
    "            r = np.random.uniform(0,1)\n",
    "            if r<=pmut:\n",
    "                child[i] = mutasi(child[i],pmut)\n",
    "\n",
    "    #HITUNG FITNESS CHILD BARU\n",
    "    fchild = []\n",
    "    for i in range(pop):\n",
    "        gensim = []\n",
    "        pj = len(child[i])//15\n",
    "        lf = deepcopy(child[i])\n",
    "        for j in range(pj):\n",
    "            sim = []\n",
    "            for k in range(15):\n",
    "                sim.append(lf[0])\n",
    "                del lf[0]\n",
    "            gensim.append(sim)\n",
    "        fchild.append(fitness(gensim,dataTrainBinary))\n",
    "\n",
    "    #Menentukan populasi untuk generasi selanjutnya\n",
    "    yx = []\n",
    "    fx = []\n",
    "    yx = child + eg\n",
    "    fx = fchild + ef\n",
    "    bestgen = sorted(zip(fx,yx), reverse=True)[:pop]\n",
    "    \n",
    "    \n",
    "    #Mendapat populasi baru untuk generasi selanjutnya\n",
    "    gen = []\n",
    "    for i in range(pop):\n",
    "        gen.append(bestgen[i][1])\n",
    "\n",
    "    if (g % 10 == 0):\n",
    "        print('Best Generation -',g)\n",
    "        print(*bestgen[0], sep = \"\\n\")\n",
    "        print()\n",
    "        \n",
    "print()\n",
    "print('Best Fitness(Akurasi) dan Individu(Tree):')\n",
    "print(bestgen[0][0],' - ',bestgen[0][1])"
   ]
  },
  {
   "cell_type": "markdown",
   "metadata": {},
   "source": [
    "### Test Menggunakan Data Uji"
   ]
  },
  {
   "cell_type": "code",
   "execution_count": 1370,
   "metadata": {},
   "outputs": [],
   "source": [
    "bestInd = bestgen[0][1]\n",
    "gensim = []\n",
    "pj = len(bestInd)//15\n",
    "lf = deepcopy(bestInd)\n",
    "for j in range(pj):\n",
    "    sim = []\n",
    "    for k in range(15):\n",
    "        sim.append(lf[0])\n",
    "        del lf[0]\n",
    "    gensim.append(sim)"
   ]
  },
  {
   "cell_type": "markdown",
   "metadata": {},
   "source": [
    "### Read Data Uji"
   ]
  },
  {
   "cell_type": "code",
   "execution_count": 1371,
   "metadata": {},
   "outputs": [],
   "source": [
    "dataUji = pd.read_excel('DatasetAI.xlsx', sheet_name=1)\n",
    "dataUjiList = dataUji.values.tolist()\n",
    "dataUjiBinary = convertRule(dataUjiList)\n",
    "\n",
    "for i in range(len(dataUjiBinary)):\n",
    "    del dataUjiBinary[i][14]"
   ]
  },
  {
   "cell_type": "markdown",
   "metadata": {},
   "source": [
    "### Pengecekan Data Uji\n",
    "Pengecakan dilakukan dengan membandingkan data uji dengan individu pohon terbaik yang didapat dari hasil generate sebelumnya"
   ]
  },
  {
   "cell_type": "code",
   "execution_count": 1372,
   "metadata": {},
   "outputs": [],
   "source": [
    "listk = cekData(dataUjiBinary,gensim)"
   ]
  },
  {
   "cell_type": "code",
   "execution_count": 1374,
   "metadata": {},
   "outputs": [],
   "source": [
    "for i in range(len(dataUjiBinary)):\n",
    "    dataUjiBinary[i].append(listk[i])\n",
    "hasil = decodeBinary(dataUjiBinary)"
   ]
  },
  {
   "cell_type": "code",
   "execution_count": 1375,
   "metadata": {},
   "outputs": [
    {
     "name": "stdout",
     "output_type": "stream",
     "text": [
      "Kelas : [1, 0, 0, 1, 1, 0, 1, 0, 1, 0, 0, 0, 1, 0, 0, 0, 1, 0, 0, 0]\n",
      "['Tinggi', 'Siang', 'Berawan', 'Rendah', 'Ya']\n",
      "['Rendah', 'Siang', 'Hujan', 'Tinggi', 'Tidak']\n",
      "['Normal', 'Pagi', 'Hujan', 'Tinggi', 'Tidak']\n",
      "['Tinggi', 'Siang', 'Hujan', 'Normal', 'Ya']\n",
      "['Rendah', 'Malam', 'Hujan', 'Rendah', 'Ya']\n",
      "['Normal', 'Sore', 'Cerah', 'Normal', 'Tidak']\n",
      "['Tinggi', 'Siang', 'Rintik', 'Rendah', 'Ya']\n",
      "['Rendah', 'Siang', 'Cerah', 'Rendah', 'Tidak']\n",
      "['Normal', 'Siang', 'Cerah', 'Rendah', 'Ya']\n",
      "['Tinggi', 'Siang', 'Hujan', 'Rendah', 'Tidak']\n",
      "['Tinggi', 'Sore', 'Cerah', 'Tinggi', 'Tidak']\n",
      "['Normal', 'Siang', 'Cerah', 'Tinggi', 'Tidak']\n",
      "['Rendah', 'Pagi', 'Berawan', 'Normal', 'Ya']\n",
      "['Rendah', 'Malam', 'Rintik', 'Tinggi', 'Tidak']\n",
      "['Normal', 'Siang', 'Hujan', 'Normal', 'Tidak']\n",
      "['Tinggi', 'Malam', 'Cerah', 'Tinggi', 'Tidak']\n",
      "['Rendah', 'Malam', 'Berawan', 'Rendah', 'Ya']\n",
      "['Rendah', 'Sore', 'Rintik', 'Normal', 'Tidak']\n",
      "['Tinggi', 'Siang', 'Cerah', 'Rendah', 'Tidak']\n",
      "['Rendah', 'Malam', 'Rintik', 'Normal', 'Tidak']\n"
     ]
    }
   ],
   "source": [
    "print('Kelas :',listk)\n",
    "print(*hasil, sep = \"\\n\")"
   ]
  },
  {
   "cell_type": "markdown",
   "metadata": {},
   "source": [
    "### Simpan Hasil ke csv"
   ]
  },
  {
   "cell_type": "code",
   "execution_count": null,
   "metadata": {},
   "outputs": [],
   "source": [
    "with open('hasilOutput.csv', \"w\") as outfile:\n",
    "    wr = csv.writer(outfile, dialect='excel')\n",
    "    wr.writerows(hasil)"
   ]
  }
 ],
 "metadata": {
  "kernelspec": {
   "display_name": "Python 3",
   "language": "python",
   "name": "python3"
  },
  "language_info": {
   "codemirror_mode": {
    "name": "ipython",
    "version": 3
   },
   "file_extension": ".py",
   "mimetype": "text/x-python",
   "name": "python",
   "nbconvert_exporter": "python",
   "pygments_lexer": "ipython3",
   "version": "3.6.7"
  }
 },
 "nbformat": 4,
 "nbformat_minor": 2
}
